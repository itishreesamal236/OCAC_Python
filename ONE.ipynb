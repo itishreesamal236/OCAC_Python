{
 "cells": [
  {
   "cell_type": "code",
   "execution_count": 1,
   "id": "0c4e6a86-d109-428c-a328-55ea783d9c00",
   "metadata": {},
   "outputs": [
    {
     "name": "stdout",
     "output_type": "stream",
     "text": [
      "Hello OCAC\n"
     ]
    }
   ],
   "source": [
    "print(\"Hello OCAC\")"
   ]
  },
  {
   "cell_type": "markdown",
   "id": "660e2bc0-ec4f-4a75-922e-146019f9e6ed",
   "metadata": {},
   "source": [
    "print(5)"
   ]
  },
  {
   "cell_type": "code",
   "execution_count": 3,
   "id": "f8d18cd8-bbaa-425f-afab-a72d3ccd75b8",
   "metadata": {},
   "outputs": [
    {
     "data": {
      "text/plain": [
       "15"
      ]
     },
     "execution_count": 3,
     "metadata": {},
     "output_type": "execute_result"
    }
   ],
   "source": [
    "A=5\n",
    "B=10\n",
    "A+B"
   ]
  },
  {
   "cell_type": "markdown",
   "id": "1e0f4b07-17d1-47da-aa40-de557cf78b02",
   "metadata": {},
   "source": [
    "## OK"
   ]
  },
  {
   "cell_type": "code",
   "execution_count": 5,
   "id": "0f707cf9-34fd-4278-a687-952c360b202b",
   "metadata": {},
   "outputs": [
    {
     "data": {
      "text/plain": [
       "'C:\\\\Users\\\\itish\\\\PYTHON3\\\\Notebook'"
      ]
     },
     "execution_count": 5,
     "metadata": {},
     "output_type": "execute_result"
    }
   ],
   "source": [
    "pwd //present working directory"
   ]
  },
  {
   "cell_type": "code",
   "execution_count": 1,
   "id": "c8c2f5ac-7fc4-4531-aa7e-e3abe141272f",
   "metadata": {},
   "outputs": [
    {
     "data": {
      "text/plain": [
       "'NIELIT'"
      ]
     },
     "execution_count": 1,
     "metadata": {},
     "output_type": "execute_result"
    }
   ],
   "source": [
    "c='NIELIT'\n",
    "c"
   ]
  },
  {
   "cell_type": "code",
   "execution_count": 2,
   "id": "acdd404b-81b9-4bd4-b392-2695eb3a8e09",
   "metadata": {},
   "outputs": [
    {
     "ename": "NameError",
     "evalue": "name 'b' is not defined",
     "output_type": "error",
     "traceback": [
      "\u001b[1;31m---------------------------------------------------------------------------\u001b[0m",
      "\u001b[1;31mNameError\u001b[0m                                 Traceback (most recent call last)",
      "Cell \u001b[1;32mIn[2], line 1\u001b[0m\n\u001b[1;32m----> 1\u001b[0m \u001b[38;5;28mprint\u001b[39m(b)\n",
      "\u001b[1;31mNameError\u001b[0m: name 'b' is not defined"
     ]
    }
   ],
   "source": [
    "print(b)"
   ]
  },
  {
   "cell_type": "markdown",
   "id": "d16e745d-6998-4621-a094-33060a7f9abb",
   "metadata": {},
   "source": [
    "## SINGLE VARIABLE ASSIGNMENT"
   ]
  },
  {
   "cell_type": "code",
   "execution_count": null,
   "id": "c973241b-e1cc-4a09-8ff8-8b5160ab3389",
   "metadata": {},
   "outputs": [],
   "source": [
    "It is assigned by using \"=\" operator."
   ]
  },
  {
   "cell_type": "code",
   "execution_count": 3,
   "id": "196a0a9b-f816-4bad-bc93-c4e8dbf7c85a",
   "metadata": {},
   "outputs": [
    {
     "data": {
      "text/plain": [
       "50"
      ]
     },
     "execution_count": 3,
     "metadata": {},
     "output_type": "execute_result"
    }
   ],
   "source": [
    "a =50\n",
    "a"
   ]
  },
  {
   "cell_type": "code",
   "execution_count": 4,
   "id": "0be0d4fe-4a7f-4a5c-9fe2-c283e77cfcaa",
   "metadata": {},
   "outputs": [
    {
     "data": {
      "text/plain": [
       "int"
      ]
     },
     "execution_count": 4,
     "metadata": {},
     "output_type": "execute_result"
    }
   ],
   "source": [
    "type(a)"
   ]
  },
  {
   "cell_type": "code",
   "execution_count": 5,
   "id": "ed29f262-c710-4871-9e7a-b555a58b8974",
   "metadata": {},
   "outputs": [
    {
     "ename": "NameError",
     "evalue": "name 'b' is not defined",
     "output_type": "error",
     "traceback": [
      "\u001b[1;31m---------------------------------------------------------------------------\u001b[0m",
      "\u001b[1;31mNameError\u001b[0m                                 Traceback (most recent call last)",
      "Cell \u001b[1;32mIn[5], line 1\u001b[0m\n\u001b[1;32m----> 1\u001b[0m \u001b[38;5;28mtype\u001b[39m(b)\n",
      "\u001b[1;31mNameError\u001b[0m: name 'b' is not defined"
     ]
    }
   ],
   "source": [
    "type(b)"
   ]
  },
  {
   "cell_type": "code",
   "execution_count": 6,
   "id": "ff37b36e-1a81-458c-85b3-ecc14877ef02",
   "metadata": {},
   "outputs": [
    {
     "data": {
      "text/plain": [
       "'NIELIT'"
      ]
     },
     "execution_count": 6,
     "metadata": {},
     "output_type": "execute_result"
    }
   ],
   "source": [
    "b ='NIELIT'\n",
    "b"
   ]
  },
  {
   "cell_type": "code",
   "execution_count": 7,
   "id": "c82c5eb4-402f-4141-a808-73da9366d2e6",
   "metadata": {},
   "outputs": [
    {
     "data": {
      "text/plain": [
       "90"
      ]
     },
     "execution_count": 7,
     "metadata": {},
     "output_type": "execute_result"
    }
   ],
   "source": [
    "ib =90\n",
    "ib"
   ]
  },
  {
   "cell_type": "code",
   "execution_count": 10,
   "id": "e1f064c1-d561-491b-91fc-f839d3b608a1",
   "metadata": {},
   "outputs": [
    {
     "data": {
      "text/plain": [
       "'90'"
      ]
     },
     "execution_count": 10,
     "metadata": {},
     "output_type": "execute_result"
    }
   ],
   "source": [
    "c =\"90\"\n",
    "c"
   ]
  },
  {
   "cell_type": "code",
   "execution_count": 11,
   "id": "384a21fe-260f-4f09-a626-4019520595cc",
   "metadata": {},
   "outputs": [
    {
     "data": {
      "text/plain": [
       "str"
      ]
     },
     "execution_count": 11,
     "metadata": {},
     "output_type": "execute_result"
    }
   ],
   "source": [
    "type(c)"
   ]
  },
  {
   "cell_type": "code",
   "execution_count": 12,
   "id": "896e2521-339f-42f8-b53b-68e14435b469",
   "metadata": {},
   "outputs": [
    {
     "data": {
      "text/plain": [
       "'90a'"
      ]
     },
     "execution_count": 12,
     "metadata": {},
     "output_type": "execute_result"
    }
   ],
   "source": [
    "cd =\"90a\"\n",
    "cd"
   ]
  },
  {
   "cell_type": "code",
   "execution_count": 13,
   "id": "87417f13-2fc8-4043-a17c-3a90dbc8deef",
   "metadata": {},
   "outputs": [
    {
     "data": {
      "text/plain": [
       "str"
      ]
     },
     "execution_count": 13,
     "metadata": {},
     "output_type": "execute_result"
    }
   ],
   "source": [
    "type(cd)"
   ]
  },
  {
   "cell_type": "code",
   "execution_count": 16,
   "id": "c0ce08d6-b055-4a62-a0ca-794ef87c299f",
   "metadata": {},
   "outputs": [
    {
     "name": "stdout",
     "output_type": "stream",
     "text": [
      "['False', 'None', 'True', 'and', 'as', 'assert', 'async', 'await', 'break', 'class', 'continue', 'def', 'del', 'elif', 'else', 'except', 'finally', 'for', 'from', 'global', 'if', 'import', 'in', 'is', 'lambda', 'nonlocal', 'not', 'or', 'pass', 'raise', 'return', 'try', 'while', 'with', 'yield']\n"
     ]
    }
   ],
   "source": [
    "import keyword\n",
    "print(keyword.kwlist)"
   ]
  },
  {
   "cell_type": "code",
   "execution_count": 17,
   "id": "dd1d763f-3e46-496d-9f50-092b2eb7f032",
   "metadata": {},
   "outputs": [
    {
     "data": {
      "text/plain": [
       "35"
      ]
     },
     "execution_count": 17,
     "metadata": {},
     "output_type": "execute_result"
    }
   ],
   "source": [
    "len(keyword.kwlist)"
   ]
  },
  {
   "cell_type": "code",
   "execution_count": 19,
   "id": "e2ca60ba-8646-4d6d-9e2a-4341e89a2e99",
   "metadata": {},
   "outputs": [
    {
     "ename": "SyntaxError",
     "evalue": "cannot assign to False (3627396313.py, line 1)",
     "output_type": "error",
     "traceback": [
      "\u001b[1;36m  Cell \u001b[1;32mIn[19], line 1\u001b[1;36m\u001b[0m\n\u001b[1;33m    False = \"9563\"\u001b[0m\n\u001b[1;37m    ^\u001b[0m\n\u001b[1;31mSyntaxError\u001b[0m\u001b[1;31m:\u001b[0m cannot assign to False\n"
     ]
    }
   ],
   "source": [
    "False = \"9563\"\n",
    "False"
   ]
  },
  {
   "cell_type": "code",
   "execution_count": 20,
   "id": "49242b2f-a243-418d-b8b3-6145ee1fac5d",
   "metadata": {},
   "outputs": [
    {
     "data": {
      "text/plain": [
       "50"
      ]
     },
     "execution_count": 20,
     "metadata": {},
     "output_type": "execute_result"
    }
   ],
   "source": [
    "a1 = 50\n",
    "a1"
   ]
  },
  {
   "cell_type": "code",
   "execution_count": 22,
   "id": "964d9848-a22f-43a2-b83b-46feb38bbb4c",
   "metadata": {},
   "outputs": [
    {
     "ename": "SyntaxError",
     "evalue": "invalid decimal literal (466779400.py, line 1)",
     "output_type": "error",
     "traceback": [
      "\u001b[1;36m  Cell \u001b[1;32mIn[22], line 1\u001b[1;36m\u001b[0m\n\u001b[1;33m    1b = 90\u001b[0m\n\u001b[1;37m    ^\u001b[0m\n\u001b[1;31mSyntaxError\u001b[0m\u001b[1;31m:\u001b[0m invalid decimal literal\n"
     ]
    }
   ],
   "source": [
    "1b = 90\n",
    "1b"
   ]
  },
  {
   "cell_type": "code",
   "execution_count": 23,
   "id": "023c2d8f-edca-4eb4-9864-56a2e3f89fd9",
   "metadata": {},
   "outputs": [
    {
     "ename": "SyntaxError",
     "evalue": "invalid syntax (4215880195.py, line 1)",
     "output_type": "error",
     "traceback": [
      "\u001b[1;36m  Cell \u001b[1;32mIn[23], line 1\u001b[1;36m\u001b[0m\n\u001b[1;33m    b$7 = 90\u001b[0m\n\u001b[1;37m     ^\u001b[0m\n\u001b[1;31mSyntaxError\u001b[0m\u001b[1;31m:\u001b[0m invalid syntax\n"
     ]
    }
   ],
   "source": [
    "b$7 = 90\n",
    "b$7"
   ]
  },
  {
   "cell_type": "code",
   "execution_count": 24,
   "id": "ea6bd744-074a-4486-b92a-5c1b19c8b349",
   "metadata": {},
   "outputs": [
    {
     "data": {
      "text/plain": [
       "504"
      ]
     },
     "execution_count": 24,
     "metadata": {},
     "output_type": "execute_result"
    }
   ],
   "source": [
    "b_6 =504\n",
    "b_6"
   ]
  },
  {
   "cell_type": "code",
   "execution_count": 25,
   "id": "f3657bfd-b3dd-47a9-b622-ca474a87fc3c",
   "metadata": {},
   "outputs": [
    {
     "data": {
      "text/plain": [
       "2323531271888"
      ]
     },
     "execution_count": 25,
     "metadata": {},
     "output_type": "execute_result"
    }
   ],
   "source": [
    "#Storagelocation\n",
    "id(b_6)"
   ]
  },
  {
   "cell_type": "code",
   "execution_count": 26,
   "id": "33e03e18-e3cf-4310-9c50-4bcaebcf7c84",
   "metadata": {},
   "outputs": [
    {
     "data": {
      "text/plain": [
       "2323531272560"
      ]
     },
     "execution_count": 26,
     "metadata": {},
     "output_type": "execute_result"
    }
   ],
   "source": [
    "v = 504\n",
    "v\n",
    "id(v)"
   ]
  },
  {
   "cell_type": "code",
   "execution_count": 27,
   "id": "e4b09c3f-4e14-45e8-8205-61feae654f81",
   "metadata": {},
   "outputs": [
    {
     "data": {
      "text/plain": [
       "2323531272304"
      ]
     },
     "execution_count": 27,
     "metadata": {},
     "output_type": "execute_result"
    }
   ],
   "source": [
    "v = 503\n",
    "id(v)"
   ]
  },
  {
   "cell_type": "code",
   "execution_count": 28,
   "id": "186e4991-abc7-4999-8365-1030dcecaca2",
   "metadata": {},
   "outputs": [
    {
     "data": {
      "text/plain": [
       "140718017334824"
      ]
     },
     "execution_count": 28,
     "metadata": {},
     "output_type": "execute_result"
    }
   ],
   "source": [
    "b = 89\n",
    "c = 87\n",
    "id(b)"
   ]
  },
  {
   "cell_type": "code",
   "execution_count": 29,
   "id": "bfbac0bf-17ff-47cd-8d33-835edf20b556",
   "metadata": {},
   "outputs": [
    {
     "data": {
      "text/plain": [
       "140718017334760"
      ]
     },
     "execution_count": 29,
     "metadata": {},
     "output_type": "execute_result"
    }
   ],
   "source": [
    "id(c)"
   ]
  },
  {
   "cell_type": "code",
   "execution_count": 30,
   "id": "b9438869-e5d2-4f59-8451-69ec67b123d7",
   "metadata": {},
   "outputs": [
    {
     "data": {
      "text/plain": [
       "140718017334824"
      ]
     },
     "execution_count": 30,
     "metadata": {},
     "output_type": "execute_result"
    }
   ],
   "source": [
    "d = 89\n",
    "id(d)"
   ]
  },
  {
   "cell_type": "code",
   "execution_count": 31,
   "id": "588810b1-e0d1-43aa-8ed2-4d0f53ab5f45",
   "metadata": {},
   "outputs": [
    {
     "data": {
      "text/plain": [
       "140718017333640"
      ]
     },
     "execution_count": 31,
     "metadata": {},
     "output_type": "execute_result"
    }
   ],
   "source": [
    "d = 52\n",
    "id(d)"
   ]
  },
  {
   "cell_type": "code",
   "execution_count": 32,
   "id": "c77c1a40-b4df-4dc9-92ef-9225574855b6",
   "metadata": {},
   "outputs": [
    {
     "name": "stdout",
     "output_type": "stream",
     "text": [
      "The summation of two numbers are  40\n"
     ]
    }
   ],
   "source": [
    "a = 10\n",
    "b = 30\n",
    "sum= a+b\n",
    "print(\"The summation of two numbers are \",sum)\n"
   ]
  },
  {
   "cell_type": "code",
   "execution_count": 33,
   "id": "0e6f6d7d-5827-4c81-89ce-8595a2c7224f",
   "metadata": {},
   "outputs": [
    {
     "data": {
      "text/plain": [
       "('The summation of two numbers are', 40)"
      ]
     },
     "execution_count": 33,
     "metadata": {},
     "output_type": "execute_result"
    }
   ],
   "source": [
    "\"The summation of two numbers are\",sum"
   ]
  },
  {
   "cell_type": "code",
   "execution_count": 34,
   "id": "57a0bb5b-fa0e-493f-a9b3-334c37c976eb",
   "metadata": {},
   "outputs": [
    {
     "data": {
      "text/plain": [
       "40"
      ]
     },
     "execution_count": 34,
     "metadata": {},
     "output_type": "execute_result"
    }
   ],
   "source": [
    "sum"
   ]
  },
  {
   "cell_type": "code",
   "execution_count": 35,
   "id": "47449d02-216d-41d8-895b-654c4488708d",
   "metadata": {},
   "outputs": [
    {
     "data": {
      "text/plain": [
       "9"
      ]
     },
     "execution_count": 35,
     "metadata": {},
     "output_type": "execute_result"
    }
   ],
   "source": [
    "a = b =c =9\n",
    "a"
   ]
  },
  {
   "cell_type": "code",
   "execution_count": 36,
   "id": "c39c119f-f3c4-4f5f-bf50-a291d2088870",
   "metadata": {},
   "outputs": [
    {
     "data": {
      "text/plain": [
       "9"
      ]
     },
     "execution_count": 36,
     "metadata": {},
     "output_type": "execute_result"
    }
   ],
   "source": [
    "b"
   ]
  },
  {
   "cell_type": "code",
   "execution_count": 37,
   "id": "640d8482-e766-4dbd-a5de-96ee617a4577",
   "metadata": {},
   "outputs": [
    {
     "data": {
      "text/plain": [
       "9"
      ]
     },
     "execution_count": 37,
     "metadata": {},
     "output_type": "execute_result"
    }
   ],
   "source": [
    "c"
   ]
  },
  {
   "cell_type": "code",
   "execution_count": 38,
   "id": "3fb31aa2-8e9b-45b0-8dfc-0041109592c8",
   "metadata": {},
   "outputs": [
    {
     "name": "stdout",
     "output_type": "stream",
     "text": [
      "87 65 43\n"
     ]
    }
   ],
   "source": [
    "a= 87\n",
    "b = 65\n",
    "c = 43\n",
    "abc = 87\n",
    "print(a,b,c)"
   ]
  },
  {
   "cell_type": "code",
   "execution_count": 39,
   "id": "f133eb20-fa13-482e-82c6-d54ffe0a2bbf",
   "metadata": {},
   "outputs": [
    {
     "name": "stdout",
     "output_type": "stream",
     "text": [
      "87\n"
     ]
    }
   ],
   "source": [
    "print(abc)"
   ]
  },
  {
   "cell_type": "code",
   "execution_count": 40,
   "id": "7fc5db48-0f4a-4e6c-84cb-c5f8d7faa26f",
   "metadata": {},
   "outputs": [
    {
     "name": "stdout",
     "output_type": "stream",
     "text": [
      "64\n"
     ]
    }
   ],
   "source": [
    "a = 64\n",
    "print(a)"
   ]
  },
  {
   "cell_type": "code",
   "execution_count": 41,
   "id": "91ab3aa6-d453-44eb-9f90-35121f261b24",
   "metadata": {},
   "outputs": [],
   "source": [
    "#Delet Element\n",
    "del(a)"
   ]
  },
  {
   "cell_type": "code",
   "execution_count": 42,
   "id": "3c3c25ed-ea0b-4c9a-a5ce-f44f0a63d272",
   "metadata": {},
   "outputs": [
    {
     "ename": "NameError",
     "evalue": "name 'a' is not defined",
     "output_type": "error",
     "traceback": [
      "\u001b[1;31m---------------------------------------------------------------------------\u001b[0m",
      "\u001b[1;31mNameError\u001b[0m                                 Traceback (most recent call last)",
      "Cell \u001b[1;32mIn[42], line 1\u001b[0m\n\u001b[1;32m----> 1\u001b[0m \u001b[38;5;28mprint\u001b[39m(a)\n",
      "\u001b[1;31mNameError\u001b[0m: name 'a' is not defined"
     ]
    }
   ],
   "source": [
    "print(a)"
   ]
  },
  {
   "cell_type": "code",
   "execution_count": 43,
   "id": "4596f816-fe06-4d7e-92d1-6989842c63a3",
   "metadata": {},
   "outputs": [],
   "source": [
    "# to c Lear van ab l e expl orer.\n",
    "a=10\n",
    "b=20\n",
    "c=30\n",
    "del a,b"
   ]
  },
  {
   "cell_type": "code",
   "execution_count": 44,
   "id": "fc86ca94-d88b-4bbc-9375-af868e4970eb",
   "metadata": {},
   "outputs": [
    {
     "name": "stdout",
     "output_type": "stream",
     "text": [
      "30\n"
     ]
    }
   ],
   "source": [
    "print(c)"
   ]
  },
  {
   "cell_type": "code",
   "execution_count": 45,
   "id": "11c3aa26-6c83-496f-baa8-7f1474e4e19d",
   "metadata": {},
   "outputs": [
    {
     "ename": "SyntaxError",
     "evalue": "invalid decimal literal (1029402503.py, line 1)",
     "output_type": "error",
     "traceback": [
      "\u001b[1;36m  Cell \u001b[1;32mIn[45], line 1\u001b[1;36m\u001b[0m\n\u001b[1;33m    1a= 50\u001b[0m\n\u001b[1;37m    ^\u001b[0m\n\u001b[1;31mSyntaxError\u001b[0m\u001b[1;31m:\u001b[0m invalid decimal literal\n"
     ]
    }
   ],
   "source": [
    "1a= 50"
   ]
  },
  {
   "cell_type": "code",
   "execution_count": 46,
   "id": "1d547930-e293-412d-acfc-7c88d7ae7c00",
   "metadata": {},
   "outputs": [
    {
     "ename": "SyntaxError",
     "evalue": "cannot assign to expression here. Maybe you meant '==' instead of '='? (1985635240.py, line 1)",
     "output_type": "error",
     "traceback": [
      "\u001b[1;36m  Cell \u001b[1;32mIn[46], line 1\u001b[1;36m\u001b[0m\n\u001b[1;33m    a@1= 70\u001b[0m\n\u001b[1;37m    ^\u001b[0m\n\u001b[1;31mSyntaxError\u001b[0m\u001b[1;31m:\u001b[0m cannot assign to expression here. Maybe you meant '==' instead of '='?\n"
     ]
    }
   ],
   "source": [
    "a@1= 70"
   ]
  },
  {
   "cell_type": "markdown",
   "id": "4c55f02c-0e18-4653-a8cb-9dee8bf91a27",
   "metadata": {},
   "source": [
    "## Multiple Assignments"
   ]
  },
  {
   "cell_type": "code",
   "execution_count": 47,
   "id": "7686268a-2a96-4c67-af2a-2052a6b9524a",
   "metadata": {},
   "outputs": [
    {
     "name": "stdout",
     "output_type": "stream",
     "text": [
      "10 20 30\n"
     ]
    }
   ],
   "source": [
    "a=10\n",
    "b=20\n",
    "c=30\n",
    "print(a,b,c)"
   ]
  },
  {
   "cell_type": "code",
   "execution_count": 48,
   "id": "a4a02d82-38db-4ae8-a87c-58ae3d196058",
   "metadata": {},
   "outputs": [
    {
     "name": "stdout",
     "output_type": "stream",
     "text": [
      "10 20 30\n"
     ]
    }
   ],
   "source": [
    "# we can as ss ign/r u L tiple van ab Les in a s i ngl e Lb One\n",
    "a,b,c = 10,20,30\n",
    "print(a,b,c)"
   ]
  },
  {
   "cell_type": "code",
   "execution_count": 49,
   "id": "ac2c9d5b-962b-48ec-a4b7-51a9d10d983d",
   "metadata": {},
   "outputs": [
    {
     "name": "stdout",
     "output_type": "stream",
     "text": [
      "AI\n"
     ]
    }
   ],
   "source": [
    "# as s ign same vaL ue to /r uL tip Le var i ab Les at once\n",
    "a = b = c =\"AI\"\n",
    "print(c)"
   ]
  },
  {
   "cell_type": "code",
   "execution_count": 50,
   "id": "556ca24e-7139-4ff7-8c3c-e76cb1e9c5e6",
   "metadata": {},
   "outputs": [
    {
     "data": {
      "text/plain": [
       "'C:\\\\Users\\\\itish\\\\PYTHON3\\\\Notebook'"
      ]
     },
     "execution_count": 50,
     "metadata": {},
     "output_type": "execute_result"
    }
   ],
   "source": [
    "pwd"
   ]
  },
  {
   "cell_type": "markdown",
   "id": "16dc8929-123f-4884-bd17-b9e9d285c4ce",
   "metadata": {},
   "source": [
    "## python Output"
   ]
  },
  {
   "cell_type": "code",
   "execution_count": null,
   "id": "10c7cc28-9704-41e5-87d6-47c36759cd9a",
   "metadata": {},
   "outputs": [],
   "source": [
    "we use the print() function tto output data to the standard output device."
   ]
  },
  {
   "cell_type": "markdown",
   "id": "a38ef8bb-9df1-4d2d-ad40-6f7f36c7386a",
   "metadata": {},
   "source": [
    "## Various Way of Printing"
   ]
  },
  {
   "cell_type": "code",
   "execution_count": 51,
   "id": "8d4d123e-ade3-4a07-a241-b82979128615",
   "metadata": {},
   "outputs": [
    {
     "name": "stdout",
     "output_type": "stream",
     "text": [
      "2\n"
     ]
    }
   ],
   "source": [
    "print(2)"
   ]
  },
  {
   "cell_type": "code",
   "execution_count": 52,
   "id": "88359079-39a6-4408-be3e-4a92de030dd7",
   "metadata": {},
   "outputs": [
    {
     "name": "stdout",
     "output_type": "stream",
     "text": [
      "rama\n"
     ]
    }
   ],
   "source": [
    "print(\"rama\")"
   ]
  },
  {
   "cell_type": "code",
   "execution_count": 53,
   "id": "0d5a3adc-1d66-49c1-b6f8-31575baa7a21",
   "metadata": {},
   "outputs": [
    {
     "name": "stdout",
     "output_type": "stream",
     "text": [
      "asffsfwe 12!@#$\n"
     ]
    }
   ],
   "source": [
    "print(\"asffsfwe 12!@#$\")"
   ]
  },
  {
   "cell_type": "code",
   "execution_count": 54,
   "id": "3d295493-0522-4672-beea-0e2529eddf47",
   "metadata": {},
   "outputs": [
    {
     "name": "stdout",
     "output_type": "stream",
     "text": [
      "20\n"
     ]
    }
   ],
   "source": [
    "b=20\n",
    "print(b)"
   ]
  },
  {
   "cell_type": "code",
   "execution_count": 55,
   "id": "b3e29ba5-5603-4a72-b456-7c0808eeb1dd",
   "metadata": {},
   "outputs": [
    {
     "name": "stdout",
     "output_type": "stream",
     "text": [
      "10\n"
     ]
    }
   ],
   "source": [
    "siva=10\n",
    "print(siva)"
   ]
  },
  {
   "cell_type": "code",
   "execution_count": 56,
   "id": "88535be5-6814-428d-8230-87a2cea6246f",
   "metadata": {},
   "outputs": [
    {
     "name": "stdout",
     "output_type": "stream",
     "text": [
      "siva\n"
     ]
    }
   ],
   "source": [
    "print(\"siva\")"
   ]
  },
  {
   "cell_type": "code",
   "execution_count": 57,
   "id": "4ed72dcf-25ab-4735-933b-0b55ddccc9b0",
   "metadata": {},
   "outputs": [
    {
     "name": "stdout",
     "output_type": "stream",
     "text": [
      "10 20 30 40\n"
     ]
    }
   ],
   "source": [
    "a=10\n",
    "b=20\n",
    "c=30\n",
    "d=40\n",
    "print(a,b,c,d)"
   ]
  },
  {
   "cell_type": "code",
   "execution_count": 58,
   "id": "28f0d4b7-43ae-4bf0-a20e-2dc230e6b551",
   "metadata": {},
   "outputs": [
    {
     "name": "stdout",
     "output_type": "stream",
     "text": [
      "2\n"
     ]
    },
    {
     "data": {
      "text/plain": [
       "int"
      ]
     },
     "execution_count": 58,
     "metadata": {},
     "output_type": "execute_result"
    }
   ],
   "source": [
    "a=2\n",
    "print(a)\n",
    "type(a)"
   ]
  },
  {
   "cell_type": "code",
   "execution_count": 59,
   "id": "c2f86c8a-4e49-4261-b798-b299e8858823",
   "metadata": {},
   "outputs": [
    {
     "name": "stdout",
     "output_type": "stream",
     "text": [
      "2\n"
     ]
    },
    {
     "data": {
      "text/plain": [
       "str"
      ]
     },
     "execution_count": 59,
     "metadata": {},
     "output_type": "execute_result"
    }
   ],
   "source": [
    "a='2'\n",
    "print(a)\n",
    "type(a)"
   ]
  },
  {
   "cell_type": "code",
   "execution_count": 60,
   "id": "83105243-991b-418a-8cad-db1604f2a2a3",
   "metadata": {},
   "outputs": [
    {
     "name": "stdout",
     "output_type": "stream",
     "text": [
      "30\n"
     ]
    }
   ],
   "source": [
    "# print function in python 3\n",
    "a=10\n",
    "b=20\n",
    "c=a+b\n",
    "print(c)"
   ]
  },
  {
   "cell_type": "code",
   "execution_count": 61,
   "id": "5c9a2581-5d96-4174-b3cf-60a8c1f0615d",
   "metadata": {},
   "outputs": [
    {
     "name": "stdout",
     "output_type": "stream",
     "text": [
      "30\n"
     ]
    }
   ],
   "source": [
    "a=10\n",
    "b=20\n",
    "print(a+b)"
   ]
  },
  {
   "cell_type": "code",
   "execution_count": 62,
   "id": "670c631b-8ab7-48d1-bc65-a9f0ff5d4cdb",
   "metadata": {},
   "outputs": [
    {
     "name": "stdout",
     "output_type": "stream",
     "text": [
      "30\n"
     ]
    }
   ],
   "source": [
    "print(10+20)"
   ]
  },
  {
   "cell_type": "code",
   "execution_count": 63,
   "id": "3d968672-5638-48c9-8e7b-858a6a60a58e",
   "metadata": {},
   "outputs": [
    {
     "name": "stdout",
     "output_type": "stream",
     "text": [
      "10 20 30 40\n"
     ]
    }
   ],
   "source": [
    "a=10\n",
    "b=20\n",
    "c=30\n",
    "d=40\n",
    "print(a,b,c,d)"
   ]
  },
  {
   "cell_type": "code",
   "execution_count": 64,
   "id": "7d700434-a0f2-4555-ac56-adda76fead19",
   "metadata": {},
   "outputs": [
    {
     "name": "stdout",
     "output_type": "stream",
     "text": [
      "The value of a : 10\n"
     ]
    }
   ],
   "source": [
    "a=10\n",
    "print(\"The value of a :\",a)"
   ]
  },
  {
   "cell_type": "raw",
   "id": "0215ed56-d9f4-4cd5-8498-d08b2f0508a0",
   "metadata": {},
   "source": [
    "first_name='siva'\n",
    "last_name='ram'"
   ]
  },
  {
   "cell_type": "code",
   "execution_count": 67,
   "id": "3678fcd7-1c08-4f6a-8658-0a1d263574a0",
   "metadata": {},
   "outputs": [
    {
     "name": "stdout",
     "output_type": "stream",
     "text": [
      "Name ram siva\n"
     ]
    }
   ],
   "source": [
    "print(\"Name\",last_name,first_name)"
   ]
  },
  {
   "cell_type": "code",
   "execution_count": 68,
   "id": "a6e46c8b-d744-468b-a81d-8adbf578db22",
   "metadata": {},
   "outputs": [
    {
     "name": "stdout",
     "output_type": "stream",
     "text": [
      "My first name is: siva and last name is: ram\n"
     ]
    }
   ],
   "source": [
    "print(\"My first name is:\",first_name,\"and last name is:\",last_name)"
   ]
  },
  {
   "cell_type": "code",
   "execution_count": 69,
   "id": "265e83ef-b0a6-4c43-bb05-7e46019218a4",
   "metadata": {},
   "outputs": [
    {
     "name": "stdout",
     "output_type": "stream",
     "text": [
      "my first name is:siva and last name is: ram\n"
     ]
    }
   ],
   "source": [
    "print(\"my first name is:{} and last name is: {}\".format(first_name,last_name))"
   ]
  },
  {
   "cell_type": "code",
   "execution_count": 71,
   "id": "1666e334-d6a2-4084-aee6-2afe39cc14c3",
   "metadata": {},
   "outputs": [
    {
     "name": "stdout",
     "output_type": "stream",
     "text": [
      "My First name is: siva and last name is: siva\n"
     ]
    }
   ],
   "source": [
    "# we can keywords arguments to format the string\n",
    "print(\"My First name is: {first} and last name is: {first}\".format(last=last_name,first=first_name))"
   ]
  },
  {
   "cell_type": "code",
   "execution_count": 74,
   "id": "bdbeb128-6913-49d7-9081-0e09511db07d",
   "metadata": {},
   "outputs": [
    {
     "name": "stdout",
     "output_type": "stream",
     "text": [
      "Hello satish Good Morning satish\n"
     ]
    }
   ],
   "source": [
    "print(\"Hello {name} {greeting} {name}\".format(name=\"satish\",greeting=\"Good Morning\"))"
   ]
  },
  {
   "cell_type": "code",
   "execution_count": 75,
   "id": "153d061e-ac48-4ebb-b980-ea509bb9fc8e",
   "metadata": {},
   "outputs": [
    {
     "name": "stdout",
     "output_type": "stream",
     "text": [
      "The story of Bill, Manfred, andGrorg\n"
     ]
    }
   ],
   "source": [
    "# We can combine positional argument with keyword argument.\n",
    "print('The story of {}, {}, and{other}'.format('Bill', 'Manfred',other='Grorg'))"
   ]
  },
  {
   "cell_type": "code",
   "execution_count": 76,
   "id": "17f86fc0-5a37-4357-a784-def358b2dea1",
   "metadata": {},
   "outputs": [
    {
     "name": "stdout",
     "output_type": "stream",
     "text": [
      "My number is: 12 and my name is: Sam\n",
      "My number is: 12 and my name is: Sam\n",
      "My number is: 12 and my name is: Sam\n"
     ]
    }
   ],
   "source": [
    "num=12\n",
    "name='Sam'\n",
    "print('My number is: {one} and my name is: {two}'.format(one=num,two=name ))\n",
    "print('My number is: {} and my name is: {}'.format(num,name))\n",
    "print(\"My number is:\",num,\"and my name is:\",name)"
   ]
  },
  {
   "cell_type": "code",
   "execution_count": 1,
   "id": "9b976db7-a443-49c8-8abe-beb9054c8c0c",
   "metadata": {},
   "outputs": [
    {
     "name": "stdin",
     "output_type": "stream",
     "text": [
      "Enter the value of a:  4\n",
      "Enter the value of b:  5\n"
     ]
    },
    {
     "name": "stdout",
     "output_type": "stream",
     "text": [
      "ADD: 9\n",
      "Sum: 9, Diff: -1, Mult:20,Div:0.8, Mod: 4\n"
     ]
    }
   ],
   "source": [
    "a = int(input(\"Enter the value of a: \"))\n",
    "b=int(input(\"Enter the value of b: \"))\n",
    "add=a+b\n",
    "sub=a-b\n",
    "mult=a*b\n",
    "div=a/b\n",
    "mod=a%b\n",
    "print(\"ADD:\", add)\n",
    "print(\"Sum: {0}, Diff: {1}, Mult:{2},Div:{3}, Mod: {4}\".format(add, sub,mult,div,mod))"
   ]
  },
  {
   "cell_type": "code",
   "execution_count": 2,
   "id": "ab8239ea-755b-4021-b4c4-9a6b65b7ea0e",
   "metadata": {},
   "outputs": [
    {
     "name": "stdout",
     "output_type": "stream",
     "text": [
      "Sum: 9, Diff: -1, Mult: 20, Div: 0.8, Mod :4\n"
     ]
    }
   ],
   "source": [
    "print(\"Sum: {}, Diff: {}, Mult: {}, Div: {}, Mod :{}\".format(add,sub,mult,div,mod))"
   ]
  },
  {
   "cell_type": "code",
   "execution_count": 6,
   "id": "b2bc125e-5c7b-42ef-80d9-8dc0667d4910",
   "metadata": {},
   "outputs": [
    {
     "name": "stdout",
     "output_type": "stream",
     "text": [
      "Sum: 9, Diff: -1, Mult: 20, Div:        0.800000, Mod:4\n"
     ]
    }
   ],
   "source": [
    "print(\"Sum: %d, Diff: %d, Mult: %d, Div: %15.6f, Mod:%d\" % (add,sub,mult,div,mod))"
   ]
  },
  {
   "cell_type": "code",
   "execution_count": 7,
   "id": "b178b01e-0ae8-4d1e-b75b-a1960a4b284a",
   "metadata": {},
   "outputs": [
    {
     "name": "stdout",
     "output_type": "stream",
     "text": [
      "Sum: 9, Diff: -1, Mult: 20, Div:     0.80, Mod:4\n"
     ]
    }
   ],
   "source": [
    "print(\"Sum: %d, Diff: %d, Mult: %d, Div:%9.2f, Mod:%d\" % (add,sub,mult,div,mod)) "
   ]
  },
  {
   "cell_type": "code",
   "execution_count": 8,
   "id": "4ae58307-ee88-46d5-9c02-81c167affe91",
   "metadata": {},
   "outputs": [
    {
     "name": "stdout",
     "output_type": "stream",
     "text": [
      "Sum  | Diff | Mult |  Div\n",
      "9    |  -1  |  20  |  0.8\n"
     ]
    }
   ],
   "source": [
    "print('{0: <4} | {1:^4} | {2:^4} | {3:>4}'.format('Sum', 'Diff', 'Mult', 'Div'))\n",
    "print('{0:<4} | {1:^4} | {2:^4} | {3:>4}'.format(add,sub,mult,div))"
   ]
  },
  {
   "cell_type": "code",
   "execution_count": 11,
   "id": "7ee682f8-144b-4022-9144-82f460c7c182",
   "metadata": {},
   "outputs": [
    {
     "name": "stdout",
     "output_type": "stream",
     "text": [
      "Sum  | Mult | Diff |  Div\n",
      "9    |  20  |  -1  |  0.8\n"
     ]
    }
   ],
   "source": [
    "print('{0: <4} | {2:^4} | {1:^4} | {3:>4}'.format('Sum', 'Diff', 'Mult', 'Div'))\n",
    "print('{0:<4} | {2:^4} | {1:^4} | {3:>4}'.format(add,sub,mult,div))"
   ]
  },
  {
   "cell_type": "code",
   "execution_count": 12,
   "id": "2b543a42-4c24-481e-986b-bc70ea5af3bf",
   "metadata": {},
   "outputs": [
    {
     "name": "stdout",
     "output_type": "stream",
     "text": [
      "welcom to python Master Class !\n"
     ]
    }
   ],
   "source": [
    "a=\"Master Class\"\n",
    "print(f\"welcom to python {a} !\")#Formating string Literals"
   ]
  },
  {
   "cell_type": "code",
   "execution_count": 14,
   "id": "1da1330e-ca28-44c1-9f3a-d5452a1aa990",
   "metadata": {},
   "outputs": [
    {
     "name": "stdin",
     "output_type": "stream",
     "text": [
      "Enter a company name -  Accenture\n",
      "Enter the number of employees -  257\n"
     ]
    },
    {
     "name": "stdout",
     "output_type": "stream",
     "text": [
      "The name of the company is and the number of employees are  Accenture 257\n"
     ]
    }
   ],
   "source": [
    "f = input(\"Enter a company name - \")\n",
    "g = input(\"Enter the number of employees - \")\n",
    "print(\"The name of the company is and the number of employees are \",f,g)"
   ]
  },
  {
   "cell_type": "code",
   "execution_count": 15,
   "id": "6d0e1f8e-1c18-47b9-8876-d091dbc08bea",
   "metadata": {},
   "outputs": [
    {
     "name": "stdout",
     "output_type": "stream",
     "text": [
      "The name of the company is Accenture and the number of employees are 257\n"
     ]
    }
   ],
   "source": [
    "print(\"The name of the company is\",f,\"and the number of employees are\" ,g)"
   ]
  },
  {
   "cell_type": "code",
   "execution_count": 17,
   "id": "2c848ef2-1d17-4e93-ae72-2440dd592c1d",
   "metadata": {},
   "outputs": [
    {
     "name": "stdout",
     "output_type": "stream",
     "text": [
      "The name of the company is Accenture and the number of employees are 257\n"
     ]
    }
   ],
   "source": [
    "print(f\"The name of the company is {f} and the number of employees are {g}\")"
   ]
  },
  {
   "cell_type": "markdown",
   "id": "7409a41a-30c6-4929-8f93-e0a48c597224",
   "metadata": {},
   "source": [
    "## Input"
   ]
  },
  {
   "cell_type": "code",
   "execution_count": null,
   "id": "0fb08139-d486-43fc-9290-53d82386fb47",
   "metadata": {},
   "outputs": [],
   "source": [
    "want to take the input from the user.In Python, we have the input() function to allow this.\n",
    "by default it takes as \"str\"datatype."
   ]
  },
  {
   "cell_type": "code",
   "execution_count": 18,
   "id": "b061b86d-8b20-4050-8d85-6d33c4f50c79",
   "metadata": {},
   "outputs": [
    {
     "name": "stdin",
     "output_type": "stream",
     "text": [
      " 2\n"
     ]
    },
    {
     "data": {
      "text/plain": [
       "'2'"
      ]
     },
     "execution_count": 18,
     "metadata": {},
     "output_type": "execute_result"
    }
   ],
   "source": [
    "n=input()\n",
    "n"
   ]
  },
  {
   "cell_type": "code",
   "execution_count": 19,
   "id": "8aae22a8-475f-4a9b-bf27-b4a501f4ab93",
   "metadata": {},
   "outputs": [
    {
     "data": {
      "text/plain": [
       "str"
      ]
     },
     "execution_count": 19,
     "metadata": {},
     "output_type": "execute_result"
    }
   ],
   "source": [
    "type(n)"
   ]
  },
  {
   "cell_type": "code",
   "execution_count": 20,
   "id": "b65b0edf-da23-492f-b2cb-391abe124f3a",
   "metadata": {},
   "outputs": [
    {
     "name": "stdin",
     "output_type": "stream",
     "text": [
      " siva\n"
     ]
    },
    {
     "data": {
      "text/plain": [
       "'siva'"
      ]
     },
     "execution_count": 20,
     "metadata": {},
     "output_type": "execute_result"
    }
   ],
   "source": [
    "n=input()\n",
    "n"
   ]
  },
  {
   "cell_type": "code",
   "execution_count": 21,
   "id": "10012c24-8a57-4618-9231-c5b5c93dd63c",
   "metadata": {},
   "outputs": [
    {
     "name": "stdin",
     "output_type": "stream",
     "text": [
      "enter your age: 22\n"
     ]
    },
    {
     "data": {
      "text/plain": [
       "'22'"
      ]
     },
     "execution_count": 21,
     "metadata": {},
     "output_type": "execute_result"
    }
   ],
   "source": [
    "n1=input(\"enter your age:\")\n",
    "n1"
   ]
  },
  {
   "cell_type": "code",
   "execution_count": 22,
   "id": "66c02885-da6a-4db4-9e6e-82b074c5f02c",
   "metadata": {},
   "outputs": [
    {
     "data": {
      "text/plain": [
       "str"
      ]
     },
     "execution_count": 22,
     "metadata": {},
     "output_type": "execute_result"
    }
   ],
   "source": [
    "type(n1)"
   ]
  },
  {
   "cell_type": "code",
   "execution_count": 23,
   "id": "23cf45de-9515-4cb6-ae06-4242b9b161d8",
   "metadata": {},
   "outputs": [
    {
     "name": "stdin",
     "output_type": "stream",
     "text": [
      "enter your age: 22\n"
     ]
    },
    {
     "data": {
      "text/plain": [
       "22.0"
      ]
     },
     "execution_count": 23,
     "metadata": {},
     "output_type": "execute_result"
    }
   ],
   "source": [
    "n=float(input(\"enter your age:\"))\n",
    "n"
   ]
  },
  {
   "cell_type": "code",
   "execution_count": 24,
   "id": "514dabcb-1bcd-4e31-ba00-56f1b0c3294a",
   "metadata": {},
   "outputs": [
    {
     "name": "stdin",
     "output_type": "stream",
     "text": [
      "What is your name?  siva\n"
     ]
    },
    {
     "name": "stdout",
     "output_type": "stream",
     "text": [
      "It was nice talking you siva!\n"
     ]
    }
   ],
   "source": [
    "# Let's have one more example\n",
    "name=input(\"What is your name? \")\n",
    "print(\"It was nice talking you \" + name + \"!\")"
   ]
  },
  {
   "cell_type": "code",
   "execution_count": 25,
   "id": "f11e86b6-8a91-43ac-b4d9-2ff7606f96f8",
   "metadata": {},
   "outputs": [
    {
     "name": "stdin",
     "output_type": "stream",
     "text": [
      "Enter your age?  22\n"
     ]
    },
    {
     "name": "stdout",
     "output_type": "stream",
     "text": [
      "Hey, you are already 22 years old, siva!\n"
     ]
    }
   ],
   "source": [
    "age=input(\"Enter your age? \")\n",
    "print(\"Hey, you are already \" + age +\" years old, \" + name + \"!\")"
   ]
  },
  {
   "cell_type": "code",
   "execution_count": 26,
   "id": "a98fa9d5-7d2e-4e34-b191-67ff6db58bd4",
   "metadata": {},
   "outputs": [
    {
     "name": "stdin",
     "output_type": "stream",
     "text": [
      "Enter your name:  chocolate Rohan\n"
     ]
    },
    {
     "name": "stdout",
     "output_type": "stream",
     "text": [
      "chocolate\n",
      "Rohan\n"
     ]
    }
   ],
   "source": [
    "# multiple input in a single entry\n",
    "var_1, var_2 = input(\"Enter your name: \").split(\" \")\n",
    "print(var_1)\n",
    "print(var_2)"
   ]
  },
  {
   "cell_type": "code",
   "execution_count": 27,
   "id": "bbd37157-1a13-49eb-9fa5-abc6968be025",
   "metadata": {},
   "outputs": [
    {
     "data": {
      "text/plain": [
       "'C:\\\\Users\\\\itish\\\\PYTHON3\\\\Notebook'"
      ]
     },
     "execution_count": 27,
     "metadata": {},
     "output_type": "execute_result"
    }
   ],
   "source": [
    "pwd"
   ]
  },
  {
   "cell_type": "code",
   "execution_count": null,
   "id": "d740558d-5c22-4ac0-9704-e44894bc9522",
   "metadata": {},
   "outputs": [],
   "source": []
  }
 ],
 "metadata": {
  "kernelspec": {
   "display_name": "Python 3 (ipykernel)",
   "language": "python",
   "name": "python3"
  },
  "language_info": {
   "codemirror_mode": {
    "name": "ipython",
    "version": 3
   },
   "file_extension": ".py",
   "mimetype": "text/x-python",
   "name": "python",
   "nbconvert_exporter": "python",
   "pygments_lexer": "ipython3",
   "version": "3.11.7"
  }
 },
 "nbformat": 4,
 "nbformat_minor": 5
}
